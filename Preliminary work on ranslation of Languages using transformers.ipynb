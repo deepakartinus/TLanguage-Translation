{
 "cells": [
  {
   "cell_type": "markdown",
   "id": "51eab70d",
   "metadata": {},
   "source": [
    "# Language translation using pipeline and transformers from Huggingface. From TA19, the languages that have been identified are Arabic, Russian, Ukrainian, Mandarin, Polish, Latvian, Estonian, and Lithuanian."
   ]
  },
  {
   "cell_type": "code",
   "execution_count": 1,
   "id": "374c1b55",
   "metadata": {},
   "outputs": [],
   "source": [
    "# Load pipeline from transformers\n",
    "from transformers import pipeline"
   ]
  },
  {
   "cell_type": "code",
   "execution_count": 2,
   "id": "3b3bf5f2",
   "metadata": {},
   "outputs": [],
   "source": [
    "# Reference text (R) in English to be translated into the other languages. Every word is taken as a token/vector. \n",
    "R = '''My name is Wolfgang and I live in Berlin. I am 65 years old and retired from services.\n",
    "            I love traveling all over the world and collect souvenirs, that are specific to that place. \n",
    "            I give gifts to my colleagues, family, and friends after every trip.'''"
   ]
  },
  {
   "cell_type": "markdown",
   "id": "001df355",
   "metadata": {},
   "source": [
    "# English to Arabic  https://huggingface.co/Helsinki-NLP/opus-mt-en-ar"
   ]
  },
  {
   "cell_type": "code",
   "execution_count": 3,
   "id": "4d2c7e5c",
   "metadata": {},
   "outputs": [
    {
     "name": "stdout",
     "output_type": "stream",
     "text": [
      "[{'translation_text': 'اسمي وولفغانغ وأنا أعيش في برلين، عمري 65 عاماً ومتقاعد من الخدمات، أحب السفر في جميع أنحاء العالم وجمع الهدايا التذكارية، التي هي خاصة بذلك المكان، وأعطي الهدايا لزملائي وعائلتي وأصدقائي بعد كل رحلة.'}]\n"
     ]
    }
   ],
   "source": [
    "model_checkpoint = \"Helsinki-NLP/opus-mt-en-ar\"\n",
    "translator = pipeline(\"translation\", model=model_checkpoint)\n",
    "T = translator(R)\n",
    "print(T)"
   ]
  },
  {
   "cell_type": "markdown",
   "id": "f6810718",
   "metadata": {},
   "source": [
    "# Arabic to English https://huggingface.co/Helsinki-NLP/opus-mt-ar-en"
   ]
  },
  {
   "cell_type": "code",
   "execution_count": 4,
   "id": "4b5b765b",
   "metadata": {},
   "outputs": [
    {
     "data": {
      "text/plain": [
       "[{'translation_text': 'My name is Wolfgang and I live in Berlin, 65 years old and retired, and I love traveling around the world and collecting souvenir gifts, which are special to that place, and giving gifts to my colleagues, family and friends after each trip.'}]"
      ]
     },
     "execution_count": 4,
     "metadata": {},
     "output_type": "execute_result"
    }
   ],
   "source": [
    "model_checkpoint = \"Helsinki-NLP/opus-mt-ar-en\"\n",
    "translator = pipeline(\"translation\", model=model_checkpoint)\n",
    "y = translator(T[0].get('translation_text'))\n",
    "y"
   ]
  },
  {
   "cell_type": "markdown",
   "id": "1f1e5e1f",
   "metadata": {},
   "source": [
    "# English to Russian  https://huggingface.co/Helsinki-NLP/opus-mt-en-ru"
   ]
  },
  {
   "cell_type": "code",
   "execution_count": 5,
   "id": "bb668b8d",
   "metadata": {},
   "outputs": [
    {
     "name": "stdout",
     "output_type": "stream",
     "text": [
      "[{'translation_text': 'Меня зовут Вольфганг, я живу в Берлине, мне 65 лет, я ухожу в отставку, я обожаю путешествовать по всему миру и собирать сувениры, характерные для этого места, я дарю подарки моим коллегам, семье и друзьям после каждой поездки.'}]\n"
     ]
    }
   ],
   "source": [
    "model_checkpoint = \"Helsinki-NLP/opus-mt-en-ru\"\n",
    "translator = pipeline(\"translation\", model=model_checkpoint)\n",
    "T = translator(R)\n",
    "print(T)"
   ]
  },
  {
   "cell_type": "markdown",
   "id": "f74d3713",
   "metadata": {},
   "source": [
    "# Russian to English https://huggingface.co/Helsinki-NLP/opus-mt-ru-en"
   ]
  },
  {
   "cell_type": "code",
   "execution_count": 6,
   "id": "e67b103f",
   "metadata": {},
   "outputs": [
    {
     "data": {
      "text/plain": [
       "[{'translation_text': \"My name is Wolfgang, I live in Berlin, I'm 65 years old, I resign, I love to travel around the world and collect souvenirs that are typical of this place, I give gifts to my colleagues, family and friends after every trip.\"}]"
      ]
     },
     "execution_count": 6,
     "metadata": {},
     "output_type": "execute_result"
    }
   ],
   "source": [
    "model_checkpoint = \"Helsinki-NLP/opus-mt-ru-en\"\n",
    "translator = pipeline(\"translation\", model=model_checkpoint)\n",
    "y = translator(T[0].get('translation_text'))\n",
    "y"
   ]
  },
  {
   "cell_type": "markdown",
   "id": "06f0f1e7",
   "metadata": {},
   "source": [
    "# English to Ukrainian  https://huggingface.co/Helsinki-NLP/opus-mt-en-uk"
   ]
  },
  {
   "cell_type": "code",
   "execution_count": 7,
   "id": "a11efff8",
   "metadata": {},
   "outputs": [
    {
     "name": "stdout",
     "output_type": "stream",
     "text": [
      "[{'translation_text': \"Мене звати Вольфганг і я живу в Берліні, мені 65 років, я люблю подорожувати по всьому світу і збирати сувеніри, які є специфічними для цього місця, я даю подарунки своїм колегам, сім'ям та друзям після кожної подорожі.\"}]\n"
     ]
    }
   ],
   "source": [
    "model_checkpoint = \"Helsinki-NLP/opus-mt-en-uk\"\n",
    "translator = pipeline(\"translation\", model=model_checkpoint)\n",
    "T = translator(R)\n",
    "print(T)"
   ]
  },
  {
   "cell_type": "markdown",
   "id": "87e1d1ba",
   "metadata": {},
   "source": [
    "# Ukrainian to English  https://huggingface.co/Helsinki-NLP/opus-mt-uk-en"
   ]
  },
  {
   "cell_type": "code",
   "execution_count": 8,
   "id": "ec0d00ac",
   "metadata": {},
   "outputs": [
    {
     "data": {
      "text/plain": [
       "[{'translation_text': 'My name is Wolfgang, and I live in Berlin, 65 years old, and I like to travel around the world and collect souvenirs that are specific to this place, and I give presents to my colleagues, my family and friends after every trip.'}]"
      ]
     },
     "execution_count": 8,
     "metadata": {},
     "output_type": "execute_result"
    }
   ],
   "source": [
    "model_checkpoint = \"Helsinki-NLP/opus-mt-uk-en\"\n",
    "translator = pipeline(\"translation\", model=model_checkpoint)\n",
    "y = translator(T[0].get('translation_text'))\n",
    "y"
   ]
  },
  {
   "cell_type": "markdown",
   "id": "ef8f2f48",
   "metadata": {},
   "source": [
    "# English to Chinese (Mandarin) https://huggingface.co/Helsinki-NLP/opus-mt-en-zh"
   ]
  },
  {
   "cell_type": "code",
   "execution_count": 9,
   "id": "aa5f21af",
   "metadata": {},
   "outputs": [
    {
     "name": "stdout",
     "output_type": "stream",
     "text": [
      "[{'translation_text': '我的名字是沃尔夫冈,我住在柏林。我65岁,退休了,我热爱环游世界各地,收集那里特有的纪念品。每次旅行后,我都会给我的同事、家人和朋友送礼物。'}]\n"
     ]
    }
   ],
   "source": [
    "model_checkpoint = \"Helsinki-NLP/opus-mt-en-zh\"\n",
    "translator = pipeline(\"translation\", model=model_checkpoint)\n",
    "T = translator(R)\n",
    "print(T)"
   ]
  },
  {
   "cell_type": "markdown",
   "id": "d82ffb84",
   "metadata": {},
   "source": [
    "# Chinese to English https://huggingface.co/Helsinki-NLP/opus-mt-zh-en"
   ]
  },
  {
   "cell_type": "code",
   "execution_count": 10,
   "id": "101f914f",
   "metadata": {},
   "outputs": [
    {
     "data": {
      "text/plain": [
       "[{'translation_text': \"My name is Wolfgang, and I live in Berlin. I'm 65, I'm retired, I love to travel around the world and collect souvenirs that are unique there. After every trip, I give gifts to my colleagues, family and friends.\"}]"
      ]
     },
     "execution_count": 10,
     "metadata": {},
     "output_type": "execute_result"
    }
   ],
   "source": [
    "model_checkpoint = \"Helsinki-NLP/opus-mt-zh-en\"\n",
    "translator = pipeline(\"translation\", model=model_checkpoint)\n",
    "y = translator(T[0].get('translation_text'))\n",
    "y"
   ]
  },
  {
   "cell_type": "markdown",
   "id": "71b15870",
   "metadata": {},
   "source": [
    "# English to Polish  https://huggingface.co/gsarti/opus-mt-tc-en-pl"
   ]
  },
  {
   "cell_type": "code",
   "execution_count": 11,
   "id": "d3818bd8",
   "metadata": {},
   "outputs": [
    {
     "name": "stdout",
     "output_type": "stream",
     "text": [
      "[{'translation_text': 'Nazywam się Wolfgang i mieszkam w Berlinie. Mam 65 lat i przeszedł na emeryturę z usług. Uwielbiam podróżować po całym świecie i zbierać pamiątki, które są specyficzne dla tego miejsca. Daję prezenty moim kolegom, rodzinie i przyjaciołom po każdej podróży.'}]\n"
     ]
    }
   ],
   "source": [
    "model_checkpoint = \"gsarti/opus-mt-tc-en-pl\"\n",
    "translator = pipeline(\"translation\", model=model_checkpoint)\n",
    "T = translator(R)\n",
    "print(T)"
   ]
  },
  {
   "cell_type": "markdown",
   "id": "7a12acb1",
   "metadata": {},
   "source": [
    "# Polish to English https://huggingface.co/Helsinki-NLP/opus-mt-pl-en"
   ]
  },
  {
   "cell_type": "code",
   "execution_count": 12,
   "id": "fa9cbcb7",
   "metadata": {},
   "outputs": [
    {
     "data": {
      "text/plain": [
       "[{'translation_text': 'My name is Wolfgang and I live in Berlin. I am 65 years old and retired from service. I love to travel around the world and collect souvenirs that are specific to this place. I give gifts to my colleagues, family and friends after every trip.'}]"
      ]
     },
     "execution_count": 12,
     "metadata": {},
     "output_type": "execute_result"
    }
   ],
   "source": [
    "model_checkpoint = \"Helsinki-NLP/opus-mt-pl-en\"\n",
    "translator = pipeline(\"translation\", model=model_checkpoint)\n",
    "y = translator(T[0].get('translation_text'))\n",
    "y"
   ]
  },
  {
   "cell_type": "markdown",
   "id": "de50b43f",
   "metadata": {},
   "source": [
    "# English to Latvian https://huggingface.co/Helsinki-NLP/opus-mt-tc-big-en-lv"
   ]
  },
  {
   "cell_type": "code",
   "execution_count": 13,
   "id": "573b50b7",
   "metadata": {},
   "outputs": [
    {
     "name": "stdout",
     "output_type": "stream",
     "text": [
      "[{'translation_text': 'Mans vārds ir Volfgangs un es dzīvoju Berlīnē. Es esmu 65 gadus vecs un atvaļināts no dienesta. Man patīk ceļot pa visu pasauli un savākt suvenīrus, kas ir specifiski šai vietai. Es dodu dāvanas saviem kolēģiem, ģimenei un draugiem pēc katra brauciena.'}]\n"
     ]
    }
   ],
   "source": [
    "model_checkpoint = \"Helsinki-NLP/opus-mt-tc-big-en-lv\"\n",
    "translator = pipeline(\"translation\", model=model_checkpoint)\n",
    "T = translator(R)\n",
    "print(T)"
   ]
  },
  {
   "cell_type": "markdown",
   "id": "f3bb85f4",
   "metadata": {},
   "source": [
    "# Latvian to English https://huggingface.co/Helsinki-NLP/opus-mt-lv-en"
   ]
  },
  {
   "cell_type": "code",
   "execution_count": null,
   "id": "12bbc4e0",
   "metadata": {},
   "outputs": [],
   "source": [
    "model_checkpoint = \"Helsinki-NLP/opus-mt-lv-en\"\n",
    "translator = pipeline(\"translation\", model=model_checkpoint)\n",
    "y = translator(T[0].get('translation_text'))\n",
    "y"
   ]
  },
  {
   "cell_type": "markdown",
   "id": "6a73d96d",
   "metadata": {},
   "source": [
    "# English to Estonian https://huggingface.co/Helsinki-NLP/opus-mt-en-et"
   ]
  },
  {
   "cell_type": "code",
   "execution_count": null,
   "id": "20004692",
   "metadata": {},
   "outputs": [],
   "source": [
    "model_checkpoint = \"Helsinki-NLP/opus-mt-en-et\"\n",
    "translator = pipeline(\"translation\", model=model_checkpoint)\n",
    "T = translator(R)\n",
    "print(T)"
   ]
  },
  {
   "cell_type": "markdown",
   "id": "874b2e07",
   "metadata": {},
   "source": [
    "# Estonian to English https://huggingface.co/Helsinki-NLP/opus-mt-et-en"
   ]
  },
  {
   "cell_type": "code",
   "execution_count": null,
   "id": "899a32a4",
   "metadata": {},
   "outputs": [],
   "source": [
    "model_checkpoint = \"Helsinki-NLP/opus-mt-et-en\"\n",
    "translator = pipeline(\"translation\", model=model_checkpoint)\n",
    "y = translator(T[0].get('translation_text'))\n",
    "y"
   ]
  },
  {
   "cell_type": "markdown",
   "id": "be543db8",
   "metadata": {},
   "source": [
    "# English to Lithuanian https://huggingface.co/Helsinki-NLP/opus-mt-tc-big-en-lt"
   ]
  },
  {
   "cell_type": "code",
   "execution_count": null,
   "id": "8ed4c051",
   "metadata": {},
   "outputs": [],
   "source": [
    "model_checkpoint = \"Helsinki-NLP/opus-mt-tc-big-en-lt\"\n",
    "translator = pipeline(\"translation\", model=model_checkpoint)\n",
    "T = translator(R)\n",
    "print(T)"
   ]
  },
  {
   "cell_type": "markdown",
   "id": "53b13b89",
   "metadata": {},
   "source": [
    "# Lithuanian to English  https://huggingface.co/Helsinki-NLP/opus-mt-tc-big-lt-en"
   ]
  },
  {
   "cell_type": "code",
   "execution_count": null,
   "id": "057ca36d",
   "metadata": {},
   "outputs": [],
   "source": [
    "model_checkpoint = \"Helsinki-NLP/opus-mt-tc-big-lt-en\"\n",
    "translator = pipeline(\"translation\", model=model_checkpoint)\n",
    "y = translator(T[0].get('translation_text'))\n",
    "y"
   ]
  }
 ],
 "metadata": {
  "celltoolbar": "Raw Cell Format",
  "kernelspec": {
   "display_name": "Python 3 (ipykernel)",
   "language": "python",
   "name": "python3"
  },
  "language_info": {
   "codemirror_mode": {
    "name": "ipython",
    "version": 3
   },
   "file_extension": ".py",
   "mimetype": "text/x-python",
   "name": "python",
   "nbconvert_exporter": "python",
   "pygments_lexer": "ipython3",
   "version": "3.9.15"
  }
 },
 "nbformat": 4,
 "nbformat_minor": 5
}
